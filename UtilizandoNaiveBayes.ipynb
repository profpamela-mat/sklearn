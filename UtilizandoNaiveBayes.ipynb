{
  "nbformat": 4,
  "nbformat_minor": 0,
  "metadata": {
    "colab": {
      "provenance": []
    },
    "kernelspec": {
      "name": "python3",
      "display_name": "Python 3"
    },
    "language_info": {
      "name": "python"
    }
  },
  "cells": [
    {
      "cell_type": "markdown",
      "source": [
        "## Problema: Fazer a previsão do risco de acidente de veículo, a partir dos dados das pessoas contratantes do seguro e dos dados do veículo segurado"
      ],
      "metadata": {
        "id": "7qW6TSSdeRGz"
      }
    },
    {
      "cell_type": "code",
      "execution_count": null,
      "metadata": {
        "id": "_Tp0FhlVW4mF"
      },
      "outputs": [],
      "source": [
        "#imports\n",
        "\n",
        "import pandas as pd\n",
        "from sklearn.model_selection import train_test_split\n",
        "from sklearn.naive_bayes import GaussianNB\n",
        "from sklearn.preprocessing import LabelEncoder\n",
        "from sklearn.metrics import accuracy_score\n",
        "from yellowbrick.classifier import ConfusionMatrix"
      ]
    },
    {
      "cell_type": "code",
      "source": [
        "df = pd.read_csv('/content/drive/MyDrive/datasets/insurance.csv')\n",
        "df.head()"
      ],
      "metadata": {
        "colab": {
          "base_uri": "https://localhost:8080/",
          "height": 235
        },
        "id": "DVOORvEMX-yp",
        "outputId": "3e3a798a-ceca-4841-bd2e-b54e759ac4ed"
      },
      "execution_count": null,
      "outputs": [
        {
          "output_type": "execute_result",
          "data": {
            "text/plain": [
              "   Unnamed: 0  GoodStudent         Age    SocioEcon RiskAversion VehicleYear  \\\n",
              "0           1        False       Adult        Prole  Adventurous       Older   \n",
              "1           2        False      Senior        Prole     Cautious     Current   \n",
              "2           3        False      Senior  UpperMiddle   Psychopath     Current   \n",
              "3           4        False  Adolescent       Middle       Normal       Older   \n",
              "4           5        False  Adolescent        Prole       Normal       Older   \n",
              "\n",
              "  ThisCarDam RuggedAuto  Accident    MakeModel  ... HomeBase AntiTheft  \\\n",
              "0   Moderate   EggShell      Mild      Economy  ...     City     False   \n",
              "1       None   Football      None      Economy  ...     City      True   \n",
              "2       None   Football      None  FamilySedan  ...     City     False   \n",
              "3       None   EggShell      None      Economy  ...   Suburb     False   \n",
              "4   Moderate   Football  Moderate      Economy  ...     City     False   \n",
              "\n",
              "   PropCost OtherCarCost  OtherCar   MedCost  Cushioning Airbag   ILiCost  \\\n",
              "0   TenThou     Thousand      True  Thousand        Poor  False  Thousand   \n",
              "1  Thousand     Thousand      True  Thousand        Good   True  Thousand   \n",
              "2  Thousand     Thousand     False  Thousand        Good   True  Thousand   \n",
              "3  Thousand     Thousand      True  Thousand        Fair  False  Thousand   \n",
              "4   TenThou     Thousand     False  Thousand        Fair  False  Thousand   \n",
              "\n",
              "   DrivHist  \n",
              "0      Many  \n",
              "1      Zero  \n",
              "2       One  \n",
              "3      Zero  \n",
              "4      Many  \n",
              "\n",
              "[5 rows x 28 columns]"
            ],
            "text/html": [
              "\n",
              "  <div id=\"df-83774f22-f5b4-4fc2-b242-0dd8a2f9a58d\">\n",
              "    <div class=\"colab-df-container\">\n",
              "      <div>\n",
              "<style scoped>\n",
              "    .dataframe tbody tr th:only-of-type {\n",
              "        vertical-align: middle;\n",
              "    }\n",
              "\n",
              "    .dataframe tbody tr th {\n",
              "        vertical-align: top;\n",
              "    }\n",
              "\n",
              "    .dataframe thead th {\n",
              "        text-align: right;\n",
              "    }\n",
              "</style>\n",
              "<table border=\"1\" class=\"dataframe\">\n",
              "  <thead>\n",
              "    <tr style=\"text-align: right;\">\n",
              "      <th></th>\n",
              "      <th>Unnamed: 0</th>\n",
              "      <th>GoodStudent</th>\n",
              "      <th>Age</th>\n",
              "      <th>SocioEcon</th>\n",
              "      <th>RiskAversion</th>\n",
              "      <th>VehicleYear</th>\n",
              "      <th>ThisCarDam</th>\n",
              "      <th>RuggedAuto</th>\n",
              "      <th>Accident</th>\n",
              "      <th>MakeModel</th>\n",
              "      <th>...</th>\n",
              "      <th>HomeBase</th>\n",
              "      <th>AntiTheft</th>\n",
              "      <th>PropCost</th>\n",
              "      <th>OtherCarCost</th>\n",
              "      <th>OtherCar</th>\n",
              "      <th>MedCost</th>\n",
              "      <th>Cushioning</th>\n",
              "      <th>Airbag</th>\n",
              "      <th>ILiCost</th>\n",
              "      <th>DrivHist</th>\n",
              "    </tr>\n",
              "  </thead>\n",
              "  <tbody>\n",
              "    <tr>\n",
              "      <th>0</th>\n",
              "      <td>1</td>\n",
              "      <td>False</td>\n",
              "      <td>Adult</td>\n",
              "      <td>Prole</td>\n",
              "      <td>Adventurous</td>\n",
              "      <td>Older</td>\n",
              "      <td>Moderate</td>\n",
              "      <td>EggShell</td>\n",
              "      <td>Mild</td>\n",
              "      <td>Economy</td>\n",
              "      <td>...</td>\n",
              "      <td>City</td>\n",
              "      <td>False</td>\n",
              "      <td>TenThou</td>\n",
              "      <td>Thousand</td>\n",
              "      <td>True</td>\n",
              "      <td>Thousand</td>\n",
              "      <td>Poor</td>\n",
              "      <td>False</td>\n",
              "      <td>Thousand</td>\n",
              "      <td>Many</td>\n",
              "    </tr>\n",
              "    <tr>\n",
              "      <th>1</th>\n",
              "      <td>2</td>\n",
              "      <td>False</td>\n",
              "      <td>Senior</td>\n",
              "      <td>Prole</td>\n",
              "      <td>Cautious</td>\n",
              "      <td>Current</td>\n",
              "      <td>None</td>\n",
              "      <td>Football</td>\n",
              "      <td>None</td>\n",
              "      <td>Economy</td>\n",
              "      <td>...</td>\n",
              "      <td>City</td>\n",
              "      <td>True</td>\n",
              "      <td>Thousand</td>\n",
              "      <td>Thousand</td>\n",
              "      <td>True</td>\n",
              "      <td>Thousand</td>\n",
              "      <td>Good</td>\n",
              "      <td>True</td>\n",
              "      <td>Thousand</td>\n",
              "      <td>Zero</td>\n",
              "    </tr>\n",
              "    <tr>\n",
              "      <th>2</th>\n",
              "      <td>3</td>\n",
              "      <td>False</td>\n",
              "      <td>Senior</td>\n",
              "      <td>UpperMiddle</td>\n",
              "      <td>Psychopath</td>\n",
              "      <td>Current</td>\n",
              "      <td>None</td>\n",
              "      <td>Football</td>\n",
              "      <td>None</td>\n",
              "      <td>FamilySedan</td>\n",
              "      <td>...</td>\n",
              "      <td>City</td>\n",
              "      <td>False</td>\n",
              "      <td>Thousand</td>\n",
              "      <td>Thousand</td>\n",
              "      <td>False</td>\n",
              "      <td>Thousand</td>\n",
              "      <td>Good</td>\n",
              "      <td>True</td>\n",
              "      <td>Thousand</td>\n",
              "      <td>One</td>\n",
              "    </tr>\n",
              "    <tr>\n",
              "      <th>3</th>\n",
              "      <td>4</td>\n",
              "      <td>False</td>\n",
              "      <td>Adolescent</td>\n",
              "      <td>Middle</td>\n",
              "      <td>Normal</td>\n",
              "      <td>Older</td>\n",
              "      <td>None</td>\n",
              "      <td>EggShell</td>\n",
              "      <td>None</td>\n",
              "      <td>Economy</td>\n",
              "      <td>...</td>\n",
              "      <td>Suburb</td>\n",
              "      <td>False</td>\n",
              "      <td>Thousand</td>\n",
              "      <td>Thousand</td>\n",
              "      <td>True</td>\n",
              "      <td>Thousand</td>\n",
              "      <td>Fair</td>\n",
              "      <td>False</td>\n",
              "      <td>Thousand</td>\n",
              "      <td>Zero</td>\n",
              "    </tr>\n",
              "    <tr>\n",
              "      <th>4</th>\n",
              "      <td>5</td>\n",
              "      <td>False</td>\n",
              "      <td>Adolescent</td>\n",
              "      <td>Prole</td>\n",
              "      <td>Normal</td>\n",
              "      <td>Older</td>\n",
              "      <td>Moderate</td>\n",
              "      <td>Football</td>\n",
              "      <td>Moderate</td>\n",
              "      <td>Economy</td>\n",
              "      <td>...</td>\n",
              "      <td>City</td>\n",
              "      <td>False</td>\n",
              "      <td>TenThou</td>\n",
              "      <td>Thousand</td>\n",
              "      <td>False</td>\n",
              "      <td>Thousand</td>\n",
              "      <td>Fair</td>\n",
              "      <td>False</td>\n",
              "      <td>Thousand</td>\n",
              "      <td>Many</td>\n",
              "    </tr>\n",
              "  </tbody>\n",
              "</table>\n",
              "<p>5 rows × 28 columns</p>\n",
              "</div>\n",
              "      <button class=\"colab-df-convert\" onclick=\"convertToInteractive('df-83774f22-f5b4-4fc2-b242-0dd8a2f9a58d')\"\n",
              "              title=\"Convert this dataframe to an interactive table.\"\n",
              "              style=\"display:none;\">\n",
              "        \n",
              "  <svg xmlns=\"http://www.w3.org/2000/svg\" height=\"24px\"viewBox=\"0 0 24 24\"\n",
              "       width=\"24px\">\n",
              "    <path d=\"M0 0h24v24H0V0z\" fill=\"none\"/>\n",
              "    <path d=\"M18.56 5.44l.94 2.06.94-2.06 2.06-.94-2.06-.94-.94-2.06-.94 2.06-2.06.94zm-11 1L8.5 8.5l.94-2.06 2.06-.94-2.06-.94L8.5 2.5l-.94 2.06-2.06.94zm10 10l.94 2.06.94-2.06 2.06-.94-2.06-.94-.94-2.06-.94 2.06-2.06.94z\"/><path d=\"M17.41 7.96l-1.37-1.37c-.4-.4-.92-.59-1.43-.59-.52 0-1.04.2-1.43.59L10.3 9.45l-7.72 7.72c-.78.78-.78 2.05 0 2.83L4 21.41c.39.39.9.59 1.41.59.51 0 1.02-.2 1.41-.59l7.78-7.78 2.81-2.81c.8-.78.8-2.07 0-2.86zM5.41 20L4 18.59l7.72-7.72 1.47 1.35L5.41 20z\"/>\n",
              "  </svg>\n",
              "      </button>\n",
              "      \n",
              "  <style>\n",
              "    .colab-df-container {\n",
              "      display:flex;\n",
              "      flex-wrap:wrap;\n",
              "      gap: 12px;\n",
              "    }\n",
              "\n",
              "    .colab-df-convert {\n",
              "      background-color: #E8F0FE;\n",
              "      border: none;\n",
              "      border-radius: 50%;\n",
              "      cursor: pointer;\n",
              "      display: none;\n",
              "      fill: #1967D2;\n",
              "      height: 32px;\n",
              "      padding: 0 0 0 0;\n",
              "      width: 32px;\n",
              "    }\n",
              "\n",
              "    .colab-df-convert:hover {\n",
              "      background-color: #E2EBFA;\n",
              "      box-shadow: 0px 1px 2px rgba(60, 64, 67, 0.3), 0px 1px 3px 1px rgba(60, 64, 67, 0.15);\n",
              "      fill: #174EA6;\n",
              "    }\n",
              "\n",
              "    [theme=dark] .colab-df-convert {\n",
              "      background-color: #3B4455;\n",
              "      fill: #D2E3FC;\n",
              "    }\n",
              "\n",
              "    [theme=dark] .colab-df-convert:hover {\n",
              "      background-color: #434B5C;\n",
              "      box-shadow: 0px 1px 3px 1px rgba(0, 0, 0, 0.15);\n",
              "      filter: drop-shadow(0px 1px 2px rgba(0, 0, 0, 0.3));\n",
              "      fill: #FFFFFF;\n",
              "    }\n",
              "  </style>\n",
              "\n",
              "      <script>\n",
              "        const buttonEl =\n",
              "          document.querySelector('#df-83774f22-f5b4-4fc2-b242-0dd8a2f9a58d button.colab-df-convert');\n",
              "        buttonEl.style.display =\n",
              "          google.colab.kernel.accessAllowed ? 'block' : 'none';\n",
              "\n",
              "        async function convertToInteractive(key) {\n",
              "          const element = document.querySelector('#df-83774f22-f5b4-4fc2-b242-0dd8a2f9a58d');\n",
              "          const dataTable =\n",
              "            await google.colab.kernel.invokeFunction('convertToInteractive',\n",
              "                                                     [key], {});\n",
              "          if (!dataTable) return;\n",
              "\n",
              "          const docLinkHtml = 'Like what you see? Visit the ' +\n",
              "            '<a target=\"_blank\" href=https://colab.research.google.com/notebooks/data_table.ipynb>data table notebook</a>'\n",
              "            + ' to learn more about interactive tables.';\n",
              "          element.innerHTML = '';\n",
              "          dataTable['output_type'] = 'display_data';\n",
              "          await google.colab.output.renderOutput(dataTable, element);\n",
              "          const docLink = document.createElement('div');\n",
              "          docLink.innerHTML = docLinkHtml;\n",
              "          element.appendChild(docLink);\n",
              "        }\n",
              "      </script>\n",
              "    </div>\n",
              "  </div>\n",
              "  "
            ]
          },
          "metadata": {},
          "execution_count": 2
        }
      ]
    },
    {
      "cell_type": "code",
      "source": [
        "#Excluindo coluna 'Unnamed: 0'\n",
        "\n",
        "df = df.drop(columns = ['Unnamed: 0'])\n",
        "df.head()"
      ],
      "metadata": {
        "colab": {
          "base_uri": "https://localhost:8080/",
          "height": 235
        },
        "id": "ocWnVh98bWsx",
        "outputId": "624d14a1-153d-4c44-ff5a-b40a56584de5"
      },
      "execution_count": null,
      "outputs": [
        {
          "output_type": "execute_result",
          "data": {
            "text/plain": [
              "   GoodStudent         Age    SocioEcon RiskAversion VehicleYear ThisCarDam  \\\n",
              "0        False       Adult        Prole  Adventurous       Older   Moderate   \n",
              "1        False      Senior        Prole     Cautious     Current       None   \n",
              "2        False      Senior  UpperMiddle   Psychopath     Current       None   \n",
              "3        False  Adolescent       Middle       Normal       Older       None   \n",
              "4        False  Adolescent        Prole       Normal       Older   Moderate   \n",
              "\n",
              "  RuggedAuto  Accident    MakeModel DrivQuality  ... HomeBase  AntiTheft  \\\n",
              "0   EggShell      Mild      Economy        Poor  ...     City      False   \n",
              "1   Football      None      Economy      Normal  ...     City       True   \n",
              "2   Football      None  FamilySedan   Excellent  ...     City      False   \n",
              "3   EggShell      None      Economy      Normal  ...   Suburb      False   \n",
              "4   Football  Moderate      Economy        Poor  ...     City      False   \n",
              "\n",
              "   PropCost  OtherCarCost OtherCar   MedCost Cushioning Airbag   ILiCost  \\\n",
              "0   TenThou      Thousand     True  Thousand       Poor  False  Thousand   \n",
              "1  Thousand      Thousand     True  Thousand       Good   True  Thousand   \n",
              "2  Thousand      Thousand    False  Thousand       Good   True  Thousand   \n",
              "3  Thousand      Thousand     True  Thousand       Fair  False  Thousand   \n",
              "4   TenThou      Thousand    False  Thousand       Fair  False  Thousand   \n",
              "\n",
              "  DrivHist  \n",
              "0     Many  \n",
              "1     Zero  \n",
              "2      One  \n",
              "3     Zero  \n",
              "4     Many  \n",
              "\n",
              "[5 rows x 27 columns]"
            ],
            "text/html": [
              "\n",
              "  <div id=\"df-a37addd2-e441-4035-b8f4-3e34dc8a0682\">\n",
              "    <div class=\"colab-df-container\">\n",
              "      <div>\n",
              "<style scoped>\n",
              "    .dataframe tbody tr th:only-of-type {\n",
              "        vertical-align: middle;\n",
              "    }\n",
              "\n",
              "    .dataframe tbody tr th {\n",
              "        vertical-align: top;\n",
              "    }\n",
              "\n",
              "    .dataframe thead th {\n",
              "        text-align: right;\n",
              "    }\n",
              "</style>\n",
              "<table border=\"1\" class=\"dataframe\">\n",
              "  <thead>\n",
              "    <tr style=\"text-align: right;\">\n",
              "      <th></th>\n",
              "      <th>GoodStudent</th>\n",
              "      <th>Age</th>\n",
              "      <th>SocioEcon</th>\n",
              "      <th>RiskAversion</th>\n",
              "      <th>VehicleYear</th>\n",
              "      <th>ThisCarDam</th>\n",
              "      <th>RuggedAuto</th>\n",
              "      <th>Accident</th>\n",
              "      <th>MakeModel</th>\n",
              "      <th>DrivQuality</th>\n",
              "      <th>...</th>\n",
              "      <th>HomeBase</th>\n",
              "      <th>AntiTheft</th>\n",
              "      <th>PropCost</th>\n",
              "      <th>OtherCarCost</th>\n",
              "      <th>OtherCar</th>\n",
              "      <th>MedCost</th>\n",
              "      <th>Cushioning</th>\n",
              "      <th>Airbag</th>\n",
              "      <th>ILiCost</th>\n",
              "      <th>DrivHist</th>\n",
              "    </tr>\n",
              "  </thead>\n",
              "  <tbody>\n",
              "    <tr>\n",
              "      <th>0</th>\n",
              "      <td>False</td>\n",
              "      <td>Adult</td>\n",
              "      <td>Prole</td>\n",
              "      <td>Adventurous</td>\n",
              "      <td>Older</td>\n",
              "      <td>Moderate</td>\n",
              "      <td>EggShell</td>\n",
              "      <td>Mild</td>\n",
              "      <td>Economy</td>\n",
              "      <td>Poor</td>\n",
              "      <td>...</td>\n",
              "      <td>City</td>\n",
              "      <td>False</td>\n",
              "      <td>TenThou</td>\n",
              "      <td>Thousand</td>\n",
              "      <td>True</td>\n",
              "      <td>Thousand</td>\n",
              "      <td>Poor</td>\n",
              "      <td>False</td>\n",
              "      <td>Thousand</td>\n",
              "      <td>Many</td>\n",
              "    </tr>\n",
              "    <tr>\n",
              "      <th>1</th>\n",
              "      <td>False</td>\n",
              "      <td>Senior</td>\n",
              "      <td>Prole</td>\n",
              "      <td>Cautious</td>\n",
              "      <td>Current</td>\n",
              "      <td>None</td>\n",
              "      <td>Football</td>\n",
              "      <td>None</td>\n",
              "      <td>Economy</td>\n",
              "      <td>Normal</td>\n",
              "      <td>...</td>\n",
              "      <td>City</td>\n",
              "      <td>True</td>\n",
              "      <td>Thousand</td>\n",
              "      <td>Thousand</td>\n",
              "      <td>True</td>\n",
              "      <td>Thousand</td>\n",
              "      <td>Good</td>\n",
              "      <td>True</td>\n",
              "      <td>Thousand</td>\n",
              "      <td>Zero</td>\n",
              "    </tr>\n",
              "    <tr>\n",
              "      <th>2</th>\n",
              "      <td>False</td>\n",
              "      <td>Senior</td>\n",
              "      <td>UpperMiddle</td>\n",
              "      <td>Psychopath</td>\n",
              "      <td>Current</td>\n",
              "      <td>None</td>\n",
              "      <td>Football</td>\n",
              "      <td>None</td>\n",
              "      <td>FamilySedan</td>\n",
              "      <td>Excellent</td>\n",
              "      <td>...</td>\n",
              "      <td>City</td>\n",
              "      <td>False</td>\n",
              "      <td>Thousand</td>\n",
              "      <td>Thousand</td>\n",
              "      <td>False</td>\n",
              "      <td>Thousand</td>\n",
              "      <td>Good</td>\n",
              "      <td>True</td>\n",
              "      <td>Thousand</td>\n",
              "      <td>One</td>\n",
              "    </tr>\n",
              "    <tr>\n",
              "      <th>3</th>\n",
              "      <td>False</td>\n",
              "      <td>Adolescent</td>\n",
              "      <td>Middle</td>\n",
              "      <td>Normal</td>\n",
              "      <td>Older</td>\n",
              "      <td>None</td>\n",
              "      <td>EggShell</td>\n",
              "      <td>None</td>\n",
              "      <td>Economy</td>\n",
              "      <td>Normal</td>\n",
              "      <td>...</td>\n",
              "      <td>Suburb</td>\n",
              "      <td>False</td>\n",
              "      <td>Thousand</td>\n",
              "      <td>Thousand</td>\n",
              "      <td>True</td>\n",
              "      <td>Thousand</td>\n",
              "      <td>Fair</td>\n",
              "      <td>False</td>\n",
              "      <td>Thousand</td>\n",
              "      <td>Zero</td>\n",
              "    </tr>\n",
              "    <tr>\n",
              "      <th>4</th>\n",
              "      <td>False</td>\n",
              "      <td>Adolescent</td>\n",
              "      <td>Prole</td>\n",
              "      <td>Normal</td>\n",
              "      <td>Older</td>\n",
              "      <td>Moderate</td>\n",
              "      <td>Football</td>\n",
              "      <td>Moderate</td>\n",
              "      <td>Economy</td>\n",
              "      <td>Poor</td>\n",
              "      <td>...</td>\n",
              "      <td>City</td>\n",
              "      <td>False</td>\n",
              "      <td>TenThou</td>\n",
              "      <td>Thousand</td>\n",
              "      <td>False</td>\n",
              "      <td>Thousand</td>\n",
              "      <td>Fair</td>\n",
              "      <td>False</td>\n",
              "      <td>Thousand</td>\n",
              "      <td>Many</td>\n",
              "    </tr>\n",
              "  </tbody>\n",
              "</table>\n",
              "<p>5 rows × 27 columns</p>\n",
              "</div>\n",
              "      <button class=\"colab-df-convert\" onclick=\"convertToInteractive('df-a37addd2-e441-4035-b8f4-3e34dc8a0682')\"\n",
              "              title=\"Convert this dataframe to an interactive table.\"\n",
              "              style=\"display:none;\">\n",
              "        \n",
              "  <svg xmlns=\"http://www.w3.org/2000/svg\" height=\"24px\"viewBox=\"0 0 24 24\"\n",
              "       width=\"24px\">\n",
              "    <path d=\"M0 0h24v24H0V0z\" fill=\"none\"/>\n",
              "    <path d=\"M18.56 5.44l.94 2.06.94-2.06 2.06-.94-2.06-.94-.94-2.06-.94 2.06-2.06.94zm-11 1L8.5 8.5l.94-2.06 2.06-.94-2.06-.94L8.5 2.5l-.94 2.06-2.06.94zm10 10l.94 2.06.94-2.06 2.06-.94-2.06-.94-.94-2.06-.94 2.06-2.06.94z\"/><path d=\"M17.41 7.96l-1.37-1.37c-.4-.4-.92-.59-1.43-.59-.52 0-1.04.2-1.43.59L10.3 9.45l-7.72 7.72c-.78.78-.78 2.05 0 2.83L4 21.41c.39.39.9.59 1.41.59.51 0 1.02-.2 1.41-.59l7.78-7.78 2.81-2.81c.8-.78.8-2.07 0-2.86zM5.41 20L4 18.59l7.72-7.72 1.47 1.35L5.41 20z\"/>\n",
              "  </svg>\n",
              "      </button>\n",
              "      \n",
              "  <style>\n",
              "    .colab-df-container {\n",
              "      display:flex;\n",
              "      flex-wrap:wrap;\n",
              "      gap: 12px;\n",
              "    }\n",
              "\n",
              "    .colab-df-convert {\n",
              "      background-color: #E8F0FE;\n",
              "      border: none;\n",
              "      border-radius: 50%;\n",
              "      cursor: pointer;\n",
              "      display: none;\n",
              "      fill: #1967D2;\n",
              "      height: 32px;\n",
              "      padding: 0 0 0 0;\n",
              "      width: 32px;\n",
              "    }\n",
              "\n",
              "    .colab-df-convert:hover {\n",
              "      background-color: #E2EBFA;\n",
              "      box-shadow: 0px 1px 2px rgba(60, 64, 67, 0.3), 0px 1px 3px 1px rgba(60, 64, 67, 0.15);\n",
              "      fill: #174EA6;\n",
              "    }\n",
              "\n",
              "    [theme=dark] .colab-df-convert {\n",
              "      background-color: #3B4455;\n",
              "      fill: #D2E3FC;\n",
              "    }\n",
              "\n",
              "    [theme=dark] .colab-df-convert:hover {\n",
              "      background-color: #434B5C;\n",
              "      box-shadow: 0px 1px 3px 1px rgba(0, 0, 0, 0.15);\n",
              "      filter: drop-shadow(0px 1px 2px rgba(0, 0, 0, 0.3));\n",
              "      fill: #FFFFFF;\n",
              "    }\n",
              "  </style>\n",
              "\n",
              "      <script>\n",
              "        const buttonEl =\n",
              "          document.querySelector('#df-a37addd2-e441-4035-b8f4-3e34dc8a0682 button.colab-df-convert');\n",
              "        buttonEl.style.display =\n",
              "          google.colab.kernel.accessAllowed ? 'block' : 'none';\n",
              "\n",
              "        async function convertToInteractive(key) {\n",
              "          const element = document.querySelector('#df-a37addd2-e441-4035-b8f4-3e34dc8a0682');\n",
              "          const dataTable =\n",
              "            await google.colab.kernel.invokeFunction('convertToInteractive',\n",
              "                                                     [key], {});\n",
              "          if (!dataTable) return;\n",
              "\n",
              "          const docLinkHtml = 'Like what you see? Visit the ' +\n",
              "            '<a target=\"_blank\" href=https://colab.research.google.com/notebooks/data_table.ipynb>data table notebook</a>'\n",
              "            + ' to learn more about interactive tables.';\n",
              "          element.innerHTML = '';\n",
              "          dataTable['output_type'] = 'display_data';\n",
              "          await google.colab.output.renderOutput(dataTable, element);\n",
              "          const docLink = document.createElement('div');\n",
              "          docLink.innerHTML = docLinkHtml;\n",
              "          element.appendChild(docLink);\n",
              "        }\n",
              "      </script>\n",
              "    </div>\n",
              "  </div>\n",
              "  "
            ]
          },
          "metadata": {},
          "execution_count": 3
        }
      ]
    },
    {
      "cell_type": "code",
      "source": [
        "df.info()"
      ],
      "metadata": {
        "colab": {
          "base_uri": "https://localhost:8080/"
        },
        "id": "E6cHImK_cutr",
        "outputId": "31f93199-567f-4c68-80fc-4ef3655c08f0"
      },
      "execution_count": null,
      "outputs": [
        {
          "output_type": "stream",
          "name": "stdout",
          "text": [
            "<class 'pandas.core.frame.DataFrame'>\n",
            "RangeIndex: 20000 entries, 0 to 19999\n",
            "Data columns (total 27 columns):\n",
            " #   Column        Non-Null Count  Dtype \n",
            "---  ------        --------------  ----- \n",
            " 0   GoodStudent   20000 non-null  bool  \n",
            " 1   Age           20000 non-null  object\n",
            " 2   SocioEcon     20000 non-null  object\n",
            " 3   RiskAversion  20000 non-null  object\n",
            " 4   VehicleYear   20000 non-null  object\n",
            " 5   ThisCarDam    20000 non-null  object\n",
            " 6   RuggedAuto    20000 non-null  object\n",
            " 7   Accident      20000 non-null  object\n",
            " 8   MakeModel     20000 non-null  object\n",
            " 9   DrivQuality   20000 non-null  object\n",
            " 10  Mileage       20000 non-null  object\n",
            " 11  Antilock      20000 non-null  bool  \n",
            " 12  DrivingSkill  20000 non-null  object\n",
            " 13  SeniorTrain   20000 non-null  bool  \n",
            " 14  ThisCarCost   20000 non-null  object\n",
            " 15  Theft         20000 non-null  bool  \n",
            " 16  CarValue      20000 non-null  object\n",
            " 17  HomeBase      20000 non-null  object\n",
            " 18  AntiTheft     20000 non-null  bool  \n",
            " 19  PropCost      20000 non-null  object\n",
            " 20  OtherCarCost  20000 non-null  object\n",
            " 21  OtherCar      20000 non-null  bool  \n",
            " 22  MedCost       20000 non-null  object\n",
            " 23  Cushioning    20000 non-null  object\n",
            " 24  Airbag        20000 non-null  bool  \n",
            " 25  ILiCost       20000 non-null  object\n",
            " 26  DrivHist      20000 non-null  object\n",
            "dtypes: bool(7), object(20)\n",
            "memory usage: 3.2+ MB\n"
          ]
        }
      ]
    },
    {
      "cell_type": "code",
      "source": [
        "# Número de linhas e colunas\n",
        "\n",
        "df.shape"
      ],
      "metadata": {
        "colab": {
          "base_uri": "https://localhost:8080/"
        },
        "id": "oqwSJu4lc5zF",
        "outputId": "bf8b4a5a-1f51-405e-d584-dc6549925a12"
      },
      "execution_count": null,
      "outputs": [
        {
          "output_type": "execute_result",
          "data": {
            "text/plain": [
              "(20000, 27)"
            ]
          },
          "metadata": {},
          "execution_count": 5
        }
      ]
    },
    {
      "cell_type": "code",
      "source": [
        "# Verificando valores únicos para a coluna 'Accident'\n",
        "# Essa coluna informa o risco de sofrer acidente, ou seja, são as classes que queremos prever\n",
        "\n",
        "df.Accident.unique()"
      ],
      "metadata": {
        "colab": {
          "base_uri": "https://localhost:8080/"
        },
        "id": "BKLcE0k4c79d",
        "outputId": "bcba40c0-aa3d-493e-f8cc-718518cd31d9"
      },
      "execution_count": null,
      "outputs": [
        {
          "output_type": "execute_result",
          "data": {
            "text/plain": [
              "array(['Mild', 'None', 'Moderate', 'Severe'], dtype=object)"
            ]
          },
          "metadata": {},
          "execution_count": 6
        }
      ]
    },
    {
      "cell_type": "markdown",
      "source": [
        "Separando as variáveis da classe:"
      ],
      "metadata": {
        "id": "kqD4CeluiFXA"
      }
    },
    {
      "cell_type": "code",
      "source": [
        "X = df.drop(columns = ['Accident'])\n",
        "Y = df['Accident']"
      ],
      "metadata": {
        "id": "I-hEi60xdQPE"
      },
      "execution_count": null,
      "outputs": []
    },
    {
      "cell_type": "markdown",
      "source": [
        "Colocando no formato do numpy:"
      ],
      "metadata": {
        "id": "oH4f4p6JiSDt"
      }
    },
    {
      "cell_type": "code",
      "source": [
        "X = X.iloc[:,:].values\n",
        "print(X)"
      ],
      "metadata": {
        "colab": {
          "base_uri": "https://localhost:8080/"
        },
        "id": "PvOabxttg43u",
        "outputId": "c9ec64f2-7ef4-4b07-84a7-a9ccf40c2d5b"
      },
      "execution_count": null,
      "outputs": [
        {
          "output_type": "stream",
          "name": "stdout",
          "text": [
            "[[False 'Adult' 'Prole' ... False 'Thousand' 'Many']\n",
            " [False 'Senior' 'Prole' ... True 'Thousand' 'Zero']\n",
            " [False 'Senior' 'UpperMiddle' ... True 'Thousand' 'One']\n",
            " ...\n",
            " [False 'Senior' 'UpperMiddle' ... True 'Thousand' 'Zero']\n",
            " [False 'Adult' 'Middle' ... True 'Thousand' 'Zero']\n",
            " [False 'Adult' 'Middle' ... True 'Thousand' 'Zero']]\n"
          ]
        }
      ]
    },
    {
      "cell_type": "code",
      "source": [
        "Y = Y.iloc[:].values\n",
        "print(Y)"
      ],
      "metadata": {
        "colab": {
          "base_uri": "https://localhost:8080/"
        },
        "id": "n7WjXI_QhR-I",
        "outputId": "ad79a2ae-078c-49a7-cbf2-021836b8e7c1"
      },
      "execution_count": null,
      "outputs": [
        {
          "output_type": "stream",
          "name": "stdout",
          "text": [
            "['Mild' 'None' 'None' ... 'None' 'None' 'None']\n"
          ]
        }
      ]
    },
    {
      "cell_type": "code",
      "source": [
        "print(type(X),type(Y))"
      ],
      "metadata": {
        "colab": {
          "base_uri": "https://localhost:8080/"
        },
        "id": "LPh1fAjch4Xh",
        "outputId": "d0a95a41-3c1c-4c74-ebb8-9d367235b760"
      },
      "execution_count": null,
      "outputs": [
        {
          "output_type": "stream",
          "name": "stdout",
          "text": [
            "<class 'numpy.ndarray'> <class 'numpy.ndarray'>\n"
          ]
        }
      ]
    },
    {
      "cell_type": "code",
      "source": [
        "# Verificando dados e classe do primeiro registro:\n",
        "\n",
        "print(\"Dados:\", X[0], \"      Risco:\", Y[0])"
      ],
      "metadata": {
        "colab": {
          "base_uri": "https://localhost:8080/"
        },
        "id": "HqmLTKDbifiX",
        "outputId": "2f051014-89c5-4845-c1cf-1893714c613b"
      },
      "execution_count": null,
      "outputs": [
        {
          "output_type": "stream",
          "name": "stdout",
          "text": [
            "Dados: [False 'Adult' 'Prole' 'Adventurous' 'Older' 'Moderate' 'EggShell'\n",
            " 'Economy' 'Poor' 'TwentyThou' False 'SubStandard' False 'TenThou' False\n",
            " 'FiveThou' 'City' False 'TenThou' 'Thousand' True 'Thousand' 'Poor' False\n",
            " 'Thousand' 'Many']       Risco: Mild\n"
          ]
        }
      ]
    },
    {
      "cell_type": "markdown",
      "source": [
        "Transformações de dados necessárias antes de implementar o modelo:"
      ],
      "metadata": {
        "id": "v3PjkLfzjwx2"
      }
    },
    {
      "cell_type": "code",
      "source": [
        "LB = LabelEncoder()"
      ],
      "metadata": {
        "id": "nhaTfAQ2kLRh"
      },
      "execution_count": null,
      "outputs": []
    },
    {
      "cell_type": "code",
      "source": [
        "# Transformando os dados da coluna \"GoodStudent\" de False/True para 0/1\n",
        "print(\"Antes: \", X[:, 0])\n",
        "\n",
        "X[:, 0] = LB.fit_transform(X[:,0])\n",
        "\n",
        "print(\"Depois da transformação: \", X[:,0])\n"
      ],
      "metadata": {
        "colab": {
          "base_uri": "https://localhost:8080/"
        },
        "id": "zUVm-jaAjAly",
        "outputId": "41a974e0-918e-4406-cae3-4e00f69252f0"
      },
      "execution_count": null,
      "outputs": [
        {
          "output_type": "stream",
          "name": "stdout",
          "text": [
            "Antes:  [False False False ... False False False]\n",
            "Depois da transformação:  [0 0 0 ... 0 0 0]\n"
          ]
        }
      ]
    },
    {
      "cell_type": "code",
      "source": [
        "# Transformando os dados dos demais atributos categóricos\n",
        "# OBS. Poderíamos ter incluído aqui a coluna X[:,0] (\"GoodStudent\") mas para exemplificar em detalhe fiz separado\n",
        "\n",
        "for i in range(1,26):\n",
        "  X[:, i] = LB.fit_transform(X[:,i])\n",
        "  print(X[:, i])"
      ],
      "metadata": {
        "colab": {
          "base_uri": "https://localhost:8080/"
        },
        "id": "8Cd1tOCfkGQZ",
        "outputId": "0c983f34-b38e-4245-ba65-f8fe7028a7d6"
      },
      "execution_count": null,
      "outputs": [
        {
          "output_type": "stream",
          "name": "stdout",
          "text": [
            "[1 2 2 ... 2 1 1]\n",
            "[1 1 2 ... 2 0 0]\n",
            "[0 1 3 ... 2 2 2]\n",
            "[1 0 0 ... 0 1 1]\n",
            "[1 2 2 ... 2 2 2]\n",
            "[0 1 1 ... 1 1 2]\n",
            "[0 0 1 ... 2 1 1]\n",
            "[2 1 0 ... 0 0 0]\n",
            "[3 3 0 ... 0 3 3]\n",
            "[0 0 1 ... 1 0 0]\n",
            "[2 1 1 ... 0 0 0]\n",
            "[0 1 0 ... 0 0 0]\n",
            "[2 3 3 ... 3 3 3]\n",
            "[0 0 0 ... 0 0 0]\n",
            "[1 3 4 ... 0 1 1]\n",
            "[0 0 0 ... 2 3 2]\n",
            "[0 1 0 ... 1 0 0]\n",
            "[2 3 3 ... 2 3 3]\n",
            "[2 2 2 ... 2 2 2]\n",
            "[1 1 0 ... 0 1 1]\n",
            "[3 3 3 ... 3 3 3]\n",
            "[3 2 2 ... 0 2 0]\n",
            "[0 1 1 ... 1 1 1]\n",
            "[3 3 3 ... 3 3 3]\n",
            "[0 2 1 ... 2 2 2]\n"
          ]
        }
      ]
    },
    {
      "cell_type": "markdown",
      "source": [
        "Dividindo dados para treino (70%) e teste (30%):"
      ],
      "metadata": {
        "id": "HQIScjEumZnI"
      }
    },
    {
      "cell_type": "code",
      "source": [
        "x_treino, x_teste, y_treino, y_teste = train_test_split(X, Y, test_size = 0.3, random_state = 0)"
      ],
      "metadata": {
        "id": "BwSj83neldWn"
      },
      "execution_count": null,
      "outputs": []
    },
    {
      "cell_type": "markdown",
      "source": [
        "Treinando o Modelo:"
      ],
      "metadata": {
        "id": "CGfE1N0ZnA53"
      }
    },
    {
      "cell_type": "code",
      "source": [
        "modelo = GaussianNB()\n",
        "modelo.fit(x_treino, y_treino)"
      ],
      "metadata": {
        "colab": {
          "base_uri": "https://localhost:8080/"
        },
        "id": "xAcER55Vm81C",
        "outputId": "2f9706f2-e729-4e28-96d9-99ae0d4636bf"
      },
      "execution_count": null,
      "outputs": [
        {
          "output_type": "execute_result",
          "data": {
            "text/plain": [
              "GaussianNB()"
            ]
          },
          "metadata": {},
          "execution_count": 16
        }
      ]
    },
    {
      "cell_type": "markdown",
      "source": [
        "Previsões usando os dados de teste:"
      ],
      "metadata": {
        "id": "gE6tq_A3nd2x"
      }
    },
    {
      "cell_type": "code",
      "source": [
        "previsoes = modelo.predict(x_teste)"
      ],
      "metadata": {
        "id": "Lo107HbBnWvI"
      },
      "execution_count": null,
      "outputs": []
    },
    {
      "cell_type": "markdown",
      "source": [
        "Verificando acurácia do modelo, fazendo as comparações dos dados obtidos nas previsões com os dados reais:"
      ],
      "metadata": {
        "id": "Ub1bJrT4nsvm"
      }
    },
    {
      "cell_type": "code",
      "source": [
        "accuracy_score(y_teste, previsoes)"
      ],
      "metadata": {
        "colab": {
          "base_uri": "https://localhost:8080/"
        },
        "id": "FyquchXCnUKY",
        "outputId": "23f938da-4e12-4a37-fc1b-79d2f2100f86"
      },
      "execution_count": null,
      "outputs": [
        {
          "output_type": "execute_result",
          "data": {
            "text/plain": [
              "0.8658333333333333"
            ]
          },
          "metadata": {},
          "execution_count": 18
        }
      ]
    },
    {
      "cell_type": "markdown",
      "source": [
        "Matriz de confusão para avaliar modelo:"
      ],
      "metadata": {
        "id": "Euyv8oCHoGlP"
      }
    },
    {
      "cell_type": "code",
      "source": [
        "cf = ConfusionMatrix(modelo, classes = ['Mild', 'None', 'Moderate', 'Severe'])\n",
        "cf.fit(x_treino, y_treino)\n",
        "cf.score(x_teste, y_teste)\n",
        "cf.poof()"
      ],
      "metadata": {
        "colab": {
          "base_uri": "https://localhost:8080/",
          "height": 419
        },
        "id": "SihxR4iEn-Ic",
        "outputId": "e40edc0d-358c-4364-b1d1-c1c64be13739"
      },
      "execution_count": null,
      "outputs": [
        {
          "output_type": "display_data",
          "data": {
            "text/plain": [
              "<Figure size 576x396 with 1 Axes>"
            ],
            "image/png": "[encoded data removed]"
          },
          "metadata": {}
        },
        {
          "output_type": "execute_result",
          "data": {
            "text/plain": [
              "<matplotlib.axes._subplots.AxesSubplot at 0x7f590506cfd0>"
            ]
          },
          "metadata": {},
          "execution_count": 19
        }
      ]
    }
  ]
}